{
 "cells": [
  {
   "cell_type": "markdown",
   "metadata": {
    "collapsed": true,
    "deletable": true,
    "editable": true
   },
   "source": [
    "# Coding a Perceptron in a Few Lines of Code\n",
    "\n",
    "First we will import NumPy to easily manage linear algebraic and calculus operations in pyton."
   ]
  },
  {
   "cell_type": "code",
   "execution_count": 5,
   "metadata": {
    "collapsed": false,
    "deletable": true,
    "editable": true
   },
   "outputs": [],
   "source": [
    "import numpy as np"
   ]
  },
  {
   "cell_type": "markdown",
   "metadata": {
    "collapsed": false,
    "deletable": true,
    "editable": true
   },
   "source": [
    "The perceptron can be used for supervised learning. It can solve linear classification problems. A comprehensive description of the functionality of a perceptron is out of scope here. To get in touch with the theoretical background, I advise the Wikipedia article:\n",
    "    \n",
    "[Wikipedia - Perceptron](https://en.wikipedia.org/wiki/Perceptron)\n",
    "\n",
    "We will implement the perceptron algorithm in python3 and NumPy. The perceptron will learn using the Stochastic Gradient Descent Algorithm (SGD). For further details see:\n",
    "\n",
    "[Wikipedia - stochastic gradient descent](https://en.wikipedia.org/wiki/Stochastic_gradient_descent)\n",
    "\n",
    "## Objective Function\n",
    "\n",
    "First we need to defining the objective function of the Perceptron. This is the hinge loss form of the objective function\n",
    "\n",
    "$c(x, y, f(x)) = (1 - y * f(x))_+$"
   ]
  },
  {
   "cell_type": "markdown",
   "metadata": {
    "collapsed": false,
    "deletable": true,
    "editable": true
   },
   "source": [
    "c is the loss function, x the sample, y is the true label, f(x) the predicted label."
   ]
  },
  {
   "cell_type": "markdown",
   "metadata": {
    "collapsed": false,
    "deletable": true,
    "editable": true
   },
   "source": [
    "This means the following:\n",
    "$$\n",
    "c(x, y, f(x))= \n",
    "\\begin{cases}\n",
    "    0,& \\text{if } y*f(x)\\geq 1\\\\\n",
    "    1-y*f(x),              & \\text{else}\n",
    "\\end{cases}\n",
    "$$"
   ]
  },
  {
   "cell_type": "markdown",
   "metadata": {
    "collapsed": false,
    "deletable": true,
    "editable": true
   },
   "source": [
    "So consider, if y and f(x) are signed values $(+1,-1)$:\n",
    "\n",
    "<ul>\n",
    "    <li>the loss is 0, if y*f(x) are positive, respective both values have the same sign.</li>\n",
    "    <li>loss is 1-y*f(x) if y*f(x) is negative</li>\n",
    "</ul>\n",
    "\n",
    "As we defined the loss function, we can now define the objective function for the perceptron:"
   ]
  },
  {
   "cell_type": "markdown",
   "metadata": {
    "collapsed": false,
    "deletable": true,
    "editable": true
   },
   "source": [
    "$l_i(w) = (−y_i \\langle x_i,w \\rangle)_+$"
   ]
  },
  {
   "cell_type": "markdown",
   "metadata": {
    "collapsed": false,
    "deletable": true,
    "editable": true
   },
   "source": [
    "So the sample $x_i$ is misclassified, if $−y_i \\langle x_i,w \\rangle \\leq 0$\n",
    "To use this objective function in the SGD algorithm, we need to partially derivate it.<br>\n",
    "$\\nabla l_i(w) = -y_i*x_i$<br>\n",
    "This means, if we have a misclassified sample $x_i$, respectively $−y_i \\langle x_i,w \\rangle \\leq 0$ update the weight vector\n",
    "w by moving it in the direction of the misclassified sample. <br>\n",
    "$w = w + y_i * x_i$<br>\n",
    "With this update rule in mind, we can start writing our perceptron algorithm in python."
   ]
  },
  {
   "cell_type": "markdown",
   "metadata": {
    "collapsed": false,
    "deletable": true,
    "editable": true
   },
   "source": [
    "## Our Data Set\n",
    "\n",
    "First we need to define a labeled sample set."
   ]
  },
  {
   "cell_type": "code",
   "execution_count": 200,
   "metadata": {
    "collapsed": false,
    "deletable": true,
    "editable": true
   },
   "outputs": [],
   "source": [
    "X = np.array([\n",
    "    [-1, 2],\n",
    "    [3, 0],\n",
    "    [0, 4],\n",
    "    [1, 2],\n",
    "    [2, 2]\n",
    "])"
   ]
  },
  {
   "cell_type": "markdown",
   "metadata": {
    "collapsed": true,
    "deletable": true,
    "editable": true
   },
   "source": [
    "Next we fold a bias term -1 into the data set"
   ]
  },
  {
   "cell_type": "code",
   "execution_count": 212,
   "metadata": {
    "collapsed": true,
    "deletable": true,
    "editable": true
   },
   "outputs": [],
   "source": [
    "X = np.array([\n",
    "    [-1,2,-1],\n",
    "    [3,0,-1],\n",
    "    [0,4,-1],\n",
    "    [1,5,-1],\n",
    "    [2,2,-1],\n",
    "])"
   ]
  },
  {
   "cell_type": "code",
   "execution_count": 213,
   "metadata": {
    "collapsed": false,
    "deletable": true,
    "editable": true
   },
   "outputs": [],
   "source": [
    "y = np.array([-1,-1,1,1,1])\n"
   ]
  },
  {
   "cell_type": "markdown",
   "metadata": {
    "collapsed": false,
    "deletable": true,
    "editable": true
   },
   "source": [
    "## Stochastic Gradient Descent Algorithm\n",
    "\n",
    "Next we need to define the SGD algorithm using our update rule."
   ]
  },
  {
   "cell_type": "code",
   "execution_count": 215,
   "metadata": {
    "collapsed": false,
    "deletable": true,
    "editable": true
   },
   "outputs": [],
   "source": [
    "def perceptron_sgd(X, Y):\n",
    "    w = np.zeros(len(X[0]))\n",
    "    eta = 1\n",
    "\n",
    "    for t in range(1000):\n",
    "        for i, x in enumerate(X):\n",
    "            if (np.dot(X[i], w)*Y[i]) <= 0:\n",
    "                w = w + eta*X[i]*Y[i]\n",
    "                print(t)\n",
    "    return w"
   ]
  },
  {
   "cell_type": "markdown",
   "metadata": {
    "collapsed": false,
    "deletable": true,
    "editable": true
   },
   "source": [
    "### Code Description Line By Line\n",
    "\n",
    "line <b>2</b>: Initialize the weights for the perceptron with zeros<br>\n",
    "line <b>3</b>: Set the learning rate to 1<br>\n",
    "line <b>5</b>: Set the number of epochs<br>\n",
    "line <b>6</b>: Iterate over each sample in the data set<br>\n",
    "line <b>7</b>: Misclassification condition $−y_i \\langle x_i,w \\rangle \\leq 0$\n",
    "line <b>8</b>: Update rule for the weights $w = w + y_i * x_i$ including the learning rate\n",
    "line <b>9</b>: Current epoch\n",
    "\n",
    "## Let the Perceptron Learn!\n",
    "\n",
    "Next we can execute our code and check, how many iterations are needed, until all sampels are classified right.\n",
    "Finally we print the weight vector."
   ]
  },
  {
   "cell_type": "code",
   "execution_count": 219,
   "metadata": {
    "collapsed": false,
    "deletable": true,
    "editable": true
   },
   "outputs": [
    {
     "name": "stdout",
     "output_type": "stream",
     "text": [
      "0\n",
      "0\n",
      "0\n",
      "0\n",
      "1\n",
      "1\n",
      "1\n",
      "2\n",
      "2\n",
      "2\n",
      "3\n",
      "3\n",
      "3\n",
      "4\n",
      "[ 1.  2.  4.]\n"
     ]
    }
   ],
   "source": [
    "\n",
    "print(perceptron_sgd(X,y))"
   ]
  },
  {
   "cell_type": "markdown",
   "metadata": {
    "collapsed": false,
    "deletable": true,
    "editable": true
   },
   "source": [
    "This means, that the perceptron needed four epochs to classify all samples right. The weight vector is [1,2,3].<br>\n",
    "We can extract the following prediction function now:<br>\n",
    "$f(x) = \\langle x,(1,2) - 4\\rangle$"
   ]
  },
  {
   "cell_type": "markdown",
   "metadata": {
    "collapsed": false,
    "deletable": true,
    "editable": true
   },
   "source": [
    "The weight vector is [1,2] and the bias term is the third entry -4."
   ]
  },
  {
   "cell_type": "markdown",
   "metadata": {
    "collapsed": false,
    "deletable": true,
    "editable": true
   },
   "source": []
  },
  {
   "cell_type": "code",
   "execution_count": null,
   "metadata": {
    "collapsed": true,
    "deletable": true,
    "editable": true
   },
   "outputs": [],
   "source": []
  },
  {
   "cell_type": "code",
   "execution_count": null,
   "metadata": {
    "collapsed": true,
    "deletable": true,
    "editable": true
   },
   "outputs": [],
   "source": []
  },
  {
   "cell_type": "code",
   "execution_count": null,
   "metadata": {
    "collapsed": true,
    "deletable": true,
    "editable": true
   },
   "outputs": [],
   "source": []
  }
 ],
 "metadata": {
  "kernelspec": {
   "display_name": "Python 3",
   "language": "python",
   "name": "python3"
  },
  "language_info": {
   "codemirror_mode": {
    "name": "ipython",
    "version": 3
   },
   "file_extension": ".py",
   "mimetype": "text/x-python",
   "name": "python",
   "nbconvert_exporter": "python",
   "pygments_lexer": "ipython3",
   "version": "3.5.2"
  }
 },
 "nbformat": 4,
 "nbformat_minor": 2
}
